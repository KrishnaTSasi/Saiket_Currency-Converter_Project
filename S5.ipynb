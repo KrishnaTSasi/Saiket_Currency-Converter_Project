{
  "nbformat": 4,
  "nbformat_minor": 0,
  "metadata": {
    "colab": {
      "provenance": [],
      "authorship_tag": "ABX9TyOnKGEXQRaeNMBKiuGjhedX",
      "include_colab_link": true
    },
    "kernelspec": {
      "name": "python3",
      "display_name": "Python 3"
    },
    "language_info": {
      "name": "python"
    }
  },
  "cells": [
    {
      "cell_type": "markdown",
      "metadata": {
        "id": "view-in-github",
        "colab_type": "text"
      },
      "source": [
        "<a href=\"https://colab.research.google.com/github/KrishnaTSasi/Saiket_Currency-Converter_Project/blob/main/S5.ipynb\" target=\"_parent\"><img src=\"https://colab.research.google.com/assets/colab-badge.svg\" alt=\"Open In Colab\"/></a>"
      ]
    },
    {
      "cell_type": "markdown",
      "source": [
        "CURRENCY CONVERTER TASK"
      ],
      "metadata": {
        "id": "gn6sg5dUQNsW"
      }
    },
    {
      "cell_type": "code",
      "source": [
        "import requests\n",
        "\n",
        "# Open Exchange Rates API key\n",
        "API_KEY = \"a74744e15d4c481ea16cc5ae5e50930e\"\n",
        "BASE_URL = f\"https://openexchangerates.org/api/latest.json?app_id={API_KEY}\"\n",
        "\n",
        "def get_exchange_rates():\n",
        "    \"\"\"Fetch exchange rates from Open Exchange Rates API.\"\"\"\n",
        "    try:\n",
        "        response = requests.get(BASE_URL)\n",
        "        data = response.json()\n",
        "        if \"error\" in data:\n",
        "            raise Exception(data[\"description\"])\n",
        "        return data[\"rates\"]\n",
        "    except Exception as e:\n",
        "        print(f\"Error fetching exchange rates: {e}\")\n",
        "        return None"
      ],
      "metadata": {
        "id": "TTb_9Ez_RUwh"
      },
      "execution_count": null,
      "outputs": []
    },
    {
      "cell_type": "code",
      "source": [
        "def currency_converter(amount, from_currency, to_currency, rates):\n",
        "    \"\"\"Convert currency using exchange rates.\"\"\"\n",
        "    try:\n",
        "        if from_currency not in rates or to_currency not in rates:\n",
        "            raise ValueError(\"Invalid currency code.\")\n",
        "        # Convert amount to USD, then to target currency\n",
        "        usd_amount = amount / rates[from_currency]\n",
        "        converted_amount = usd_amount * rates[to_currency]\n",
        "        return converted_amount\n",
        "    except Exception as e:\n",
        "        print(f\"Conversion error: {e}\")\n",
        "        return None"
      ],
      "metadata": {
        "id": "4xcIibv4RYlS"
      },
      "execution_count": null,
      "outputs": []
    },
    {
      "cell_type": "code",
      "source": [
        "if __name__ == \"__main__\":\n",
        "    rates = get_exchange_rates()\n",
        "    if rates:\n",
        "        print(\"Available currencies:\", \", \".join(list(rates.keys())[:20]), \"...\")\n",
        "        try:\n",
        "            amount = float(input(\"Enter amount: \"))\n",
        "            from_currency = input(\"From currency (e.g., USD): \").upper()\n",
        "            to_currency = input(\"To currency (e.g., EUR): \").upper()\n",
        "\n",
        "            result = currency_converter(amount, from_currency, to_currency, rates)\n",
        "            if result is not None:\n",
        "                print(f\"{amount} {from_currency} = {result:.2f} {to_currency}\")\n",
        "        except ValueError:\n",
        "            print(\"Invalid amount entered.\")"
      ],
      "metadata": {
        "colab": {
          "base_uri": "https://localhost:8080/"
        },
        "id": "V60q8rhgRb-R",
        "outputId": "ff24979f-ec17-4ba5-f0a8-d18e39f77619"
      },
      "execution_count": null,
      "outputs": [
        {
          "output_type": "stream",
          "name": "stdout",
          "text": [
            "Available currencies: AED, AFN, ALL, AMD, ANG, AOA, ARS, AUD, AWG, AZN, BAM, BBD, BDT, BGN, BHD, BIF, BMD, BND, BOB, BRL ...\n",
            "Enter amount: EUR\n",
            "Invalid amount entered.\n"
          ]
        }
      ]
    }
  ]
}